{
 "cells": [
  {
   "cell_type": "markdown",
   "metadata": {},
   "source": [
    "# Basic Time Series Models - Lab"
   ]
  },
  {
   "cell_type": "markdown",
   "metadata": {},
   "source": [
    "## Introduction\n",
    "\n",
    "Now that you have an initial understanding of the the White Noise and the Random Walk model, let's try to generate some examples!"
   ]
  },
  {
   "cell_type": "markdown",
   "metadata": {},
   "source": [
    "## Objectives\n",
    "\n",
    "You will be able to:\n",
    "- Explain what the goal is of time series modeling\n",
    "- Understand and explain what a White Noise model is\n",
    "- Understand and explain what a Random Walk model is\n",
    "- Understand the mathematical formulations of Random Walk and White Noise models"
   ]
  },
  {
   "cell_type": "markdown",
   "metadata": {},
   "source": [
    "## A White Noise Model"
   ]
  },
  {
   "cell_type": "markdown",
   "metadata": {},
   "source": [
    "To get a good sense of how a model works, it is always a good idea to generate a process. Let's consider the following example:\n",
    "- Every day in August, September and October 2018, Nina takes the subway to work. Let's ignore weekends for now and assume that Nina works every day.\n",
    "- We know that on average, it takes her 25 minutes, and the standard deviation is 4 minutes. \n",
    "- Create and visualize a time series that reflects this information."
   ]
  },
  {
   "cell_type": "markdown",
   "metadata": {},
   "source": [
    "Let's import pandas, numpy and matplotlib."
   ]
  },
  {
   "cell_type": "code",
   "execution_count": 1,
   "metadata": {},
   "outputs": [],
   "source": [
    "import pandas as pd\n",
    "import numpy as np\n",
    "import matplotlib.pyplot as plt\n",
    "np.random.seed(12) # do not change this seed."
   ]
  },
  {
   "cell_type": "markdown",
   "metadata": {},
   "source": [
    "Create the dates. You can do this using `pd.date_range`, more info [here](https://pandas.pydata.org/pandas-docs/stable/generated/pandas.date_range.html)."
   ]
  },
  {
   "cell_type": "code",
   "execution_count": 12,
   "metadata": {},
   "outputs": [],
   "source": [
    "dates = pd.date_range(start='2018/08/2', end='31/10/2018')"
   ]
  },
  {
   "cell_type": "markdown",
   "metadata": {},
   "source": [
    "Generate the values for the wite noise process representing Nina's commute in August and September."
   ]
  },
  {
   "cell_type": "code",
   "execution_count": 13,
   "metadata": {},
   "outputs": [],
   "source": [
    "commute = np.random.normal(25, 4, len(dates))"
   ]
  },
  {
   "cell_type": "markdown",
   "metadata": {},
   "source": [
    "Create a time series with the dates and the commute times."
   ]
  },
  {
   "cell_type": "code",
   "execution_count": 14,
   "metadata": {},
   "outputs": [],
   "source": [
    "commute_series = pd.Series(commute, index = dates)"
   ]
  },
  {
   "cell_type": "markdown",
   "metadata": {},
   "source": [
    "Visualize the time series and set appropriate axis labels."
   ]
  },
  {
   "cell_type": "code",
   "execution_count": 15,
   "metadata": {},
   "outputs": [
    {
     "data": {
      "text/plain": [
       "2018-01-08    24.591818\n",
       "2018-01-09    26.339723\n",
       "2018-01-10    29.856821\n",
       "2018-01-11    21.550700\n",
       "2018-01-12    22.785499\n",
       "2018-01-13    12.379945\n",
       "2018-01-14    24.227389\n",
       "2018-01-15    25.699190\n",
       "2018-01-16    22.734483\n",
       "2018-01-17    25.093093\n",
       "2018-01-18    21.648410\n",
       "2018-01-19    21.828391\n",
       "2018-01-20    19.192060\n",
       "2018-01-21    20.493542\n",
       "2018-01-22    17.443081\n",
       "2018-01-23    29.606860\n",
       "2018-01-24    28.228660\n",
       "2018-01-25    25.181065\n",
       "2018-01-26    24.382428\n",
       "2018-01-27    30.959798\n",
       "2018-01-28    27.078358\n",
       "2018-01-29    22.162027\n",
       "2018-01-30    25.233148\n",
       "2018-01-31    26.340756\n",
       "2018-02-01    26.137032\n",
       "2018-02-02    26.250972\n",
       "2018-02-03    18.292998\n",
       "2018-02-04    21.853555\n",
       "2018-02-05    16.975574\n",
       "2018-02-06    26.252331\n",
       "                ...    \n",
       "2018-10-02    19.574683\n",
       "2018-10-03    26.346686\n",
       "2018-10-04    28.935690\n",
       "2018-10-05    28.477706\n",
       "2018-10-06    25.281931\n",
       "2018-10-07    22.570041\n",
       "2018-10-08    27.917666\n",
       "2018-10-09    25.058874\n",
       "2018-10-10    18.903109\n",
       "2018-10-11    21.366887\n",
       "2018-10-12    27.962419\n",
       "2018-10-13    29.115214\n",
       "2018-10-14    15.308510\n",
       "2018-10-15    26.582340\n",
       "2018-10-16    24.294028\n",
       "2018-10-17    29.097453\n",
       "2018-10-18    25.660596\n",
       "2018-10-19    24.353907\n",
       "2018-10-20    29.185066\n",
       "2018-10-21    29.913399\n",
       "2018-10-22    30.147156\n",
       "2018-10-23    25.465505\n",
       "2018-10-24    27.511400\n",
       "2018-10-25    32.715396\n",
       "2018-10-26    25.038504\n",
       "2018-10-27    22.466519\n",
       "2018-10-28    27.348853\n",
       "2018-10-29    21.690985\n",
       "2018-10-30    29.386628\n",
       "2018-10-31    22.144014\n",
       "Freq: D, Length: 297, dtype: float64"
      ]
     },
     "execution_count": 15,
     "metadata": {},
     "output_type": "execute_result"
    }
   ],
   "source": [
    "commute_series"
   ]
  },
  {
   "cell_type": "markdown",
   "metadata": {},
   "source": [
    "Print Nina's shortest and longest commute."
   ]
  },
  {
   "cell_type": "code",
   "execution_count": null,
   "metadata": {},
   "outputs": [],
   "source": [
    "# your code here"
   ]
  },
  {
   "cell_type": "code",
   "execution_count": null,
   "metadata": {},
   "outputs": [],
   "source": [
    "# your code here"
   ]
  },
  {
   "cell_type": "markdown",
   "metadata": {},
   "source": [
    "Look at the distribution of commute times."
   ]
  },
  {
   "cell_type": "code",
   "execution_count": null,
   "metadata": {
    "scrolled": true
   },
   "outputs": [],
   "source": [
    "# your code here"
   ]
  },
  {
   "cell_type": "markdown",
   "metadata": {},
   "source": [
    "Compute the standard deviation and the mean of the commute series. The fact that the mean and standard error are constant over time is crucial!"
   ]
  },
  {
   "cell_type": "code",
   "execution_count": null,
   "metadata": {},
   "outputs": [],
   "source": [
    "# your code here"
   ]
  },
  {
   "cell_type": "code",
   "execution_count": null,
   "metadata": {},
   "outputs": [],
   "source": [
    "# your code here"
   ]
  },
  {
   "cell_type": "markdown",
   "metadata": {},
   "source": [
    "Now, let's look at the mean and standard error for August and October respectively. "
   ]
  },
  {
   "cell_type": "code",
   "execution_count": null,
   "metadata": {},
   "outputs": [],
   "source": [
    "# your code here"
   ]
  },
  {
   "cell_type": "markdown",
   "metadata": {},
   "source": [
    "Because you've generated this data, you know that the mean and constant will be the same over time. But comparing mean and standard deviation over time is useful practice for real data examples to check if a process is White Noise!"
   ]
  },
  {
   "cell_type": "markdown",
   "metadata": {},
   "source": [
    "## A Random Walk Model"
   ]
  },
  {
   "cell_type": "markdown",
   "metadata": {},
   "source": [
    "Remember from the lecture that the Random Walk Model:"
   ]
  },
  {
   "cell_type": "markdown",
   "metadata": {},
   "source": [
    "- Has no specified mean or variance\n",
    "- Has a strong depencence over time\n",
    "\n",
    "Mathematically, this can be written as:\n",
    "\n",
    "$$Y_t = Y_{t-1} + \\epsilon_t$$\n",
    "\n",
    "Because today's value depends on yesterday's, you need a starting value when you start off your time series. In practice, this is what the first few time series values look like:\n",
    "$$ Y_0 = \\text{some specified starting value}$$\n",
    "$$Y_1= Y_{0}+ \\epsilon_1 $$\n",
    "$$Y_2= Y_{1}+ \\epsilon_2 = Y_{0} + \\epsilon_1 + \\epsilon_2  $$\n",
    "$$Y_3= Y_{2}+ \\epsilon_3 = Y_{0} + \\epsilon_1 + \\epsilon_2 + \\epsilon_3 $$\n",
    "$$\\ldots $$\n",
    "\n",
    "Keeping this in mind, let's create a random walk model:\n",
    "- starting from a value of 1000 USD of a share value upon a company's first IPO (initial public offering) in 2010 until end of november of the same year, generate a random walk model with a white noise error term, which has a standard error of 10."
   ]
  },
  {
   "cell_type": "code",
   "execution_count": null,
   "metadata": {},
   "outputs": [],
   "source": [
    "# keep the random seed\n",
    "np.random.seed(11)\n",
    "\n",
    "# create a series with the specified dates"
   ]
  },
  {
   "cell_type": "markdown",
   "metadata": {},
   "source": [
    "Visualize the time series with correct axis labels"
   ]
  },
  {
   "cell_type": "code",
   "execution_count": null,
   "metadata": {},
   "outputs": [],
   "source": [
    "# your code here"
   ]
  },
  {
   "cell_type": "markdown",
   "metadata": {},
   "source": [
    "You can see how this very much looks like the exchange rate series you looked at in the lecture!"
   ]
  },
  {
   "cell_type": "markdown",
   "metadata": {},
   "source": [
    "## Random Walk with a Drift\n",
    "\n",
    "Repeat the above, but include a drift parameter $c$ of 8 now!"
   ]
  },
  {
   "cell_type": "code",
   "execution_count": null,
   "metadata": {},
   "outputs": [],
   "source": [
    "# keep the random seed"
   ]
  },
  {
   "cell_type": "code",
   "execution_count": null,
   "metadata": {},
   "outputs": [],
   "source": [
    "# your code here"
   ]
  },
  {
   "cell_type": "markdown",
   "metadata": {},
   "source": [
    "Note that there is a very strong drift here!"
   ]
  },
  {
   "cell_type": "markdown",
   "metadata": {},
   "source": [
    "## Differencing in a Random Walk model"
   ]
  },
  {
   "cell_type": "markdown",
   "metadata": {},
   "source": [
    "One important property of the Random Walk model is that a differenced random walk returns a white noise. This is a result of the mathematical formula:\n",
    "\n",
    "$$Y_t = Y_{t-1} + \\epsilon_t$$\n",
    "which is equivalent to\n",
    "$$Y_t - Y_{t-1} = \\epsilon_t$$\n",
    "\n",
    "and we know that $\\epsilon_t$ is a mean-zero white noise process! "
   ]
  },
  {
   "cell_type": "markdown",
   "metadata": {},
   "source": [
    "Plot the differenced time series for the shares time series (no drift)."
   ]
  },
  {
   "cell_type": "code",
   "execution_count": null,
   "metadata": {},
   "outputs": [],
   "source": [
    "# your code here"
   ]
  },
  {
   "cell_type": "markdown",
   "metadata": {},
   "source": [
    "This does look a lot like a white noise series!"
   ]
  },
  {
   "cell_type": "markdown",
   "metadata": {},
   "source": [
    "Plot the differenced time series for the shares time series (with a drift)."
   ]
  },
  {
   "cell_type": "code",
   "execution_count": null,
   "metadata": {},
   "outputs": [],
   "source": [
    "# your code here"
   ]
  },
  {
   "cell_type": "markdown",
   "metadata": {},
   "source": [
    "This is also a white noise series, but what can you tell about the mean?"
   ]
  },
  {
   "cell_type": "markdown",
   "metadata": {},
   "source": [
    "The mean is equal to the drift $c$, so 8 for this example!"
   ]
  },
  {
   "cell_type": "markdown",
   "metadata": {},
   "source": [
    "## Summary\n",
    "\n",
    "Great, you now know how a Random Walk and Moving Average model work!"
   ]
  }
 ],
 "metadata": {
  "kernelspec": {
   "display_name": "Python 3",
   "language": "python",
   "name": "python3"
  },
  "language_info": {
   "codemirror_mode": {
    "name": "ipython",
    "version": 3
   },
   "file_extension": ".py",
   "mimetype": "text/x-python",
   "name": "python",
   "nbconvert_exporter": "python",
   "pygments_lexer": "ipython3",
   "version": "3.6.6"
  }
 },
 "nbformat": 4,
 "nbformat_minor": 2
}
